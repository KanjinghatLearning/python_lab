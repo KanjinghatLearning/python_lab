{
 "cells": [
  {
   "cell_type": "code",
   "execution_count": 1,
   "metadata": {},
   "outputs": [
    {
     "name": "stdout",
     "output_type": "stream",
     "text": [
      "OLS Estimator (β) to 3 significant figures: [1.93, 1.26, -4.6]\n"
     ]
    }
   ],
   "source": [
    "\n",
    "import numpy as np\n",
    "import pandas as pd\n",
    "\n",
    "def add_intercept(X):\n",
    "    return np.concatenate((np.ones_like(X[:,0:1]), X), axis=1)\n",
    "\n",
    "# Read the CSV files\n",
    "X = pd.read_csv('release_statsreview_release1/data_and_materials/syn_X.csv', header=None).values\n",
    "y = pd.read_csv('release_statsreview_release1/data_and_materials/syn_y.csv', header=None).values\n",
    "\n",
    "# Add intercept term to X\n",
    "X_with_intercept = add_intercept(X)\n",
    "\n",
    "# Compute β = (X'X)^(-1)X'y\n",
    "XtX = np.dot(X_with_intercept.T, X_with_intercept)\n",
    "XtX_inv = np.linalg.inv(XtX)\n",
    "Xty = np.dot(X_with_intercept.T, y)\n",
    "beta = np.dot(XtX_inv, Xty)\n",
    "\n",
    "# Round to 3 significant figures\n",
    "beta_rounded = []\n",
    "for b in beta.flatten():\n",
    "    beta_rounded.append(float(f\"{b:.3g}\"))\n",
    "\n",
    "print(\"OLS Estimator (β) to 3 significant figures:\", beta_rounded)\n"
   ]
  }
 ],
 "metadata": {
  "kernelspec": {
   "display_name": "Python 3",
   "language": "python",
   "name": "python3"
  },
  "language_info": {
   "codemirror_mode": {
    "name": "ipython",
    "version": 3
   },
   "file_extension": ".py",
   "mimetype": "text/x-python",
   "name": "python",
   "nbconvert_exporter": "python",
   "pygments_lexer": "ipython3",
   "version": "3.12.8"
  }
 },
 "nbformat": 4,
 "nbformat_minor": 2
}
